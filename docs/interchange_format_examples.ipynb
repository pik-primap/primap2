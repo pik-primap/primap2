{
 "cells": [
  {
   "cell_type": "markdown",
   "metadata": {
    "pycharm": {
     "name": "#%% md\n"
    }
   },
   "source": [
    "# Interchange format\n",
    "\n",
    "In PRIMAP2, data is internally handled in\n",
    "[xarray datasets](https://xarray.pydata.org/en/stable/data-structures.html#dataset)\n",
    "with defined coordinates and metadata. On disk this structure is stored as a net-cdf\n",
    "file. To enable easy data interchange with other researchers and provide a data format\n",
    "that has the full structural information of PRIMAP2 datasets but is easy to read using\n",
    "other software packages or even Excel or Calc, we have developed the **PRIMAP2\n",
    "Interchange Format** which is based on a wide format with individually stored\n",
    "accompanying metadata.\n",
    "\n",
    "## Logical format\n",
    "In the interchange format all dimensions and time points are represented by columns in\n",
    "a two-dimensional array. Values of the time columns are data while values of the other\n",
    "columns are metadata. To store metadata and additional information that is contained in\n",
    "the `attrs` dict in the PRIMAP2 xarray format, we use an additional structure. See\n",
    "sections *In-memory representation* and *on-disk representation* below for information\n",
    "on the storage of these structures.\n",
    "\n",
    "The metadata requirements are the same as in the PRIMAP2 standard data format.\n",
    "Dimensions `area` and `source` which are mandatory in the xarray format are mandatory\n",
    "columns in the interchange format. The `time` dimension is included in the horizontal\n",
    "dimension of the tabular interchange format. Additionally, we have `unit` and `entity`\n",
    "as mandatory columns with the restriction that each entity can have only one unit.\n",
    "\n",
    "All optional dimensions (see [Data format details](data_format_details.rst)) can be\n",
    "added as optional columns. Secondary categories are columns with free format names.\n",
    "They are listed as secondary columns in the metadata dict.\n",
    "\n",
    "Column names correspond to the dimension key of the xarray format, i.e. they contain\n",
    "the terminology in parentheses (e.g. `area (ISO3)`).\n",
    "\n",
    "Additional columns are currently not possible, but the option will be added\n",
    "in a future release ([#25](https://github.com/pik-primap/primap2/issues/25)).\n",
    "\n",
    "The metadata dict corresponds to the `attrs` dict of the xarray format\n",
    "(see [Data format details](data_format_details.rst)).\n",
    "\n",
    "## Use\n",
    "The interchange format is intended for use mainly in two settings.\n",
    "\n",
    "* To publish data processed using PRIMAP2 in a way that is easy to read by others but\n",
    "also keeps the internal structure and metadata. The format will be used by future data\n",
    "publications by the PRIMAP team including PRIMAP-hist.\n",
    "* To have a common intermediate format for reading data from original sources (mostly\n",
    "xls or csv files in different formats) to simplify data reading functions and to enable\n",
    "use of our data reading functionality by other projects. All data is\n",
    "first read into the interchange format and subsequently converted into the native\n",
    "PRIMAP2 format. This enables using our data reading routines in other software\n",
    "packages.\n",
    "\n",
    "## In-memory representation\n",
    "The in-memory representation of the interchange format is using a pandas DataFrame\n",
    "to store the data, and a dict to store the additional metadata. Pandas DataFrames\n",
    "have the capability to store the metadata internally, however it is still experimental\n",
    "and subject to change without notice, and we thus use the feature only in rare exceptions\n",
    "and generally store the additional metadata individually. For an example see *Examples*\n",
    "section below.\n",
    "\n",
    "## On-disk representation\n",
    "On disk the dataset is represented by a csv file containing the array, and a yaml file\n",
    "containing the additional metadata as a dict with name `attrs`.\n",
    "Both files should have the same name except for the\n",
    "ending. Additionally, the yaml file contains the string variable `data_file` which contains the\n",
    "name of the csv file. Thus, a function reading interchange format data just needs the yaml\n",
    "file name to read the data. For an example see *Examples* section below.\n",
    "\n",
    "## Examples\n",
    "Here we show a few examples of the interchange format. As the methods are still\n",
    "under development the examples are currently limited and will be expanded as the methods\n",
    "become available."
   ]
  },
  {
   "cell_type": "code",
   "execution_count": 2,
   "metadata": {
    "collapsed": false,
    "execution": {
     "iopub.execute_input": "2021-01-12T16:46:26.482526Z",
     "iopub.status.busy": "2021-01-12T16:46:26.482238Z",
     "iopub.status.idle": "2021-01-12T16:46:27.442994Z",
     "shell.execute_reply": "2021-01-12T16:46:27.442425Z",
     "shell.execute_reply.started": "2021-01-12T16:46:26.482495Z"
    },
    "jupyter": {
     "outputs_hidden": false
    },
    "pycharm": {
     "name": "#%%\n"
    }
   },
   "outputs": [],
   "source": [
    "# import all the used libraries\n",
    "import primap2 as pm2"
   ]
  },
  {
   "cell_type": "markdown",
   "metadata": {
    "pycharm": {
     "name": "#%% md\n"
    }
   },
   "source": [
    "### Reading csv data\n",
    "The PRIMAP2 data reading procedures first convert data into the interchange format.\n",
    "For explanations of the used parameters see the\n",
    "[Data reading example](data_reading_example_test_data.ipynb). A more complex dataset is\n",
    "read in [Data reading PRIMAP-hist](data_reading_example_PRIMAP-hist.ipynb)."
   ]
  },
  {
   "cell_type": "code",
   "execution_count": 3,
   "metadata": {
    "collapsed": false,
    "execution": {
     "iopub.execute_input": "2021-01-12T16:46:27.443932Z",
     "iopub.status.busy": "2021-01-12T16:46:27.443739Z",
     "iopub.status.idle": "2021-01-12T16:46:27.724241Z",
     "shell.execute_reply": "2021-01-12T16:46:27.723607Z",
     "shell.execute_reply.started": "2021-01-12T16:46:27.443906Z"
    },
    "jupyter": {
     "outputs_hidden": false
    },
    "pycharm": {
     "name": "#%%\n"
    }
   },
   "outputs": [
    {
     "data": {
      "text/plain": "        source scenario (general) area (ISO3)                entity  \\\n0  TESTcsv2021            HISTORY         AUS                   CO2   \n1  TESTcsv2021            HISTORY         AUS  KYOTOGHG (SARGWP100)   \n2  TESTcsv2021            HISTORY         FRA                   CH4   \n3  TESTcsv2021            HISTORY         FRA                   CO2   \n4  TESTcsv2021            HISTORY         FRA  KYOTOGHG (SARGWP100)   \n\n          unit category (IPCC2006) Class (class) Type (type)   1991   2000  \\\n0  Mt CO2 / yr                   1         TOTAL    fugitive  4.000  5.000   \n1  Mt CO2 / yr                   0         TOTAL    fugitive  8.000  9.000   \n2  Gg CH4 / yr                   2         TOTAL    fugitive  7.000  8.000   \n3  Mt CO2 / yr                   2         TOTAL    fugitive  0.012  0.013   \n4  Mt CO2 / yr                   0         TOTAL    fugitive  0.030  0.020   \n\n     2010  \n0   6.000  \n1  10.000  \n2   9.000  \n3   0.014  \n4   0.040  ",
      "text/html": "<div>\n<style scoped>\n    .dataframe tbody tr th:only-of-type {\n        vertical-align: middle;\n    }\n\n    .dataframe tbody tr th {\n        vertical-align: top;\n    }\n\n    .dataframe thead th {\n        text-align: right;\n    }\n</style>\n<table border=\"1\" class=\"dataframe\">\n  <thead>\n    <tr style=\"text-align: right;\">\n      <th></th>\n      <th>source</th>\n      <th>scenario (general)</th>\n      <th>area (ISO3)</th>\n      <th>entity</th>\n      <th>unit</th>\n      <th>category (IPCC2006)</th>\n      <th>Class (class)</th>\n      <th>Type (type)</th>\n      <th>1991</th>\n      <th>2000</th>\n      <th>2010</th>\n    </tr>\n  </thead>\n  <tbody>\n    <tr>\n      <th>0</th>\n      <td>TESTcsv2021</td>\n      <td>HISTORY</td>\n      <td>AUS</td>\n      <td>CO2</td>\n      <td>Mt CO2 / yr</td>\n      <td>1</td>\n      <td>TOTAL</td>\n      <td>fugitive</td>\n      <td>4.000</td>\n      <td>5.000</td>\n      <td>6.000</td>\n    </tr>\n    <tr>\n      <th>1</th>\n      <td>TESTcsv2021</td>\n      <td>HISTORY</td>\n      <td>AUS</td>\n      <td>KYOTOGHG (SARGWP100)</td>\n      <td>Mt CO2 / yr</td>\n      <td>0</td>\n      <td>TOTAL</td>\n      <td>fugitive</td>\n      <td>8.000</td>\n      <td>9.000</td>\n      <td>10.000</td>\n    </tr>\n    <tr>\n      <th>2</th>\n      <td>TESTcsv2021</td>\n      <td>HISTORY</td>\n      <td>FRA</td>\n      <td>CH4</td>\n      <td>Gg CH4 / yr</td>\n      <td>2</td>\n      <td>TOTAL</td>\n      <td>fugitive</td>\n      <td>7.000</td>\n      <td>8.000</td>\n      <td>9.000</td>\n    </tr>\n    <tr>\n      <th>3</th>\n      <td>TESTcsv2021</td>\n      <td>HISTORY</td>\n      <td>FRA</td>\n      <td>CO2</td>\n      <td>Mt CO2 / yr</td>\n      <td>2</td>\n      <td>TOTAL</td>\n      <td>fugitive</td>\n      <td>0.012</td>\n      <td>0.013</td>\n      <td>0.014</td>\n    </tr>\n    <tr>\n      <th>4</th>\n      <td>TESTcsv2021</td>\n      <td>HISTORY</td>\n      <td>FRA</td>\n      <td>KYOTOGHG (SARGWP100)</td>\n      <td>Mt CO2 / yr</td>\n      <td>0</td>\n      <td>TOTAL</td>\n      <td>fugitive</td>\n      <td>0.030</td>\n      <td>0.020</td>\n      <td>0.040</td>\n    </tr>\n  </tbody>\n</table>\n</div>"
     },
     "execution_count": 3,
     "metadata": {},
     "output_type": "execute_result"
    }
   ],
   "source": [
    "file = \"test_csv_data_sec_cat.csv\"\n",
    "coords_cols = {\n",
    "    \"unit\": \"unit\",\n",
    "    \"entity\": \"gas\",\n",
    "    \"area\": \"country\",\n",
    "    \"category\": \"category\",\n",
    "    \"sec_cats__Class\": \"classification\",\n",
    "}\n",
    "coords_defaults = {\n",
    "    \"source\": \"TESTcsv2021\",\n",
    "    \"sec_cats__Type\": \"fugitive\",\n",
    "    \"scenario\": \"HISTORY\",\n",
    "}\n",
    "coords_terminologies = {\n",
    "    \"area\": \"ISO3\",\n",
    "    \"category\": \"IPCC2006\",\n",
    "    \"sec_cats__Type\": \"type\",\n",
    "    \"sec_cats__Class\": \"class\",\n",
    "    \"scenario\": \"general\",\n",
    "}\n",
    "coords_value_mapping = {\"category\": \"PRIMAP1\", \"entity\": \"PRIMAP1\"}\n",
    "filter_keep = {}\n",
    "filter_remove = {}\n",
    "data_if = pm2.pm2io.read_wide_csv_file_if(\n",
    "    file,\n",
    "    coords_cols=coords_cols,\n",
    "    coords_defaults=coords_defaults,\n",
    "    coords_terminologies=coords_terminologies,\n",
    "    coords_value_mapping=coords_value_mapping,\n",
    "    filter_keep=filter_keep,\n",
    "    filter_remove=filter_remove,\n",
    ")\n",
    "data_if.head()"
   ]
  },
  {
   "cell_type": "markdown",
   "source": [
    "### Writing interchange format data\n",
    "Data is written using the `pm2io.write_interchange_format` function which takes a filename\n",
    "and path (`str` or `pathlib.Path`), an interchange format dataframe (`pandas.DataFrame`)\n",
    "and optionally an attribute `dict` as inputs. If the filename has an ending it will be\n",
    "ignored. The function writes a `yaml` file and a `csv` file."
   ],
   "metadata": {
    "collapsed": false,
    "pycharm": {
     "name": "#%% md\n"
    }
   }
  },
  {
   "cell_type": "code",
   "execution_count": 4,
   "outputs": [],
   "source": [
    "file_if = \"test_csv_data_sec_cat_if\"\n",
    "pm2.pm2io.write_interchange_format(file_if, data_if)\n"
   ],
   "metadata": {
    "collapsed": false,
    "pycharm": {
     "name": "#%%\n"
    }
   }
  },
  {
   "cell_type": "markdown",
   "metadata": {
    "pycharm": {
     "name": "#%% md\n"
    }
   },
   "source": [
    "### Reading data from\n",
    "To read interchange format data from disk the function `pm2io.read_interchange_format`\n",
    "is used. It just takes a filename and path as input (`str` or `pathlib.Path`) and returns\n",
    "a `pandas.DataFrame` containing the data and metadata. The filename and path has to point\n",
    "to the `yaml` file. the `csv` file will be read from the filename contained in the `yaml`\n",
    "file."
   ]
  },
  {
   "cell_type": "code",
   "execution_count": 5,
   "outputs": [
    {
     "data": {
      "text/plain": "        source scenario (general) area (ISO3)                entity  \\\n0  TESTcsv2021            HISTORY         AUS                   CO2   \n1  TESTcsv2021            HISTORY         AUS  KYOTOGHG (SARGWP100)   \n2  TESTcsv2021            HISTORY         FRA                   CH4   \n3  TESTcsv2021            HISTORY         FRA                   CO2   \n4  TESTcsv2021            HISTORY         FRA  KYOTOGHG (SARGWP100)   \n\n          unit  category (IPCC2006) Class (class) Type (type)   1991   2000  \\\n0  Mt CO2 / yr                    1         TOTAL    fugitive  4.000  5.000   \n1  Mt CO2 / yr                    0         TOTAL    fugitive  8.000  9.000   \n2  Gg CH4 / yr                    2         TOTAL    fugitive  7.000  8.000   \n3  Mt CO2 / yr                    2         TOTAL    fugitive  0.012  0.013   \n4  Mt CO2 / yr                    0         TOTAL    fugitive  0.030  0.020   \n\n     2010  \n0   6.000  \n1  10.000  \n2   9.000  \n3   0.014  \n4   0.040  ",
      "text/html": "<div>\n<style scoped>\n    .dataframe tbody tr th:only-of-type {\n        vertical-align: middle;\n    }\n\n    .dataframe tbody tr th {\n        vertical-align: top;\n    }\n\n    .dataframe thead th {\n        text-align: right;\n    }\n</style>\n<table border=\"1\" class=\"dataframe\">\n  <thead>\n    <tr style=\"text-align: right;\">\n      <th></th>\n      <th>source</th>\n      <th>scenario (general)</th>\n      <th>area (ISO3)</th>\n      <th>entity</th>\n      <th>unit</th>\n      <th>category (IPCC2006)</th>\n      <th>Class (class)</th>\n      <th>Type (type)</th>\n      <th>1991</th>\n      <th>2000</th>\n      <th>2010</th>\n    </tr>\n  </thead>\n  <tbody>\n    <tr>\n      <th>0</th>\n      <td>TESTcsv2021</td>\n      <td>HISTORY</td>\n      <td>AUS</td>\n      <td>CO2</td>\n      <td>Mt CO2 / yr</td>\n      <td>1</td>\n      <td>TOTAL</td>\n      <td>fugitive</td>\n      <td>4.000</td>\n      <td>5.000</td>\n      <td>6.000</td>\n    </tr>\n    <tr>\n      <th>1</th>\n      <td>TESTcsv2021</td>\n      <td>HISTORY</td>\n      <td>AUS</td>\n      <td>KYOTOGHG (SARGWP100)</td>\n      <td>Mt CO2 / yr</td>\n      <td>0</td>\n      <td>TOTAL</td>\n      <td>fugitive</td>\n      <td>8.000</td>\n      <td>9.000</td>\n      <td>10.000</td>\n    </tr>\n    <tr>\n      <th>2</th>\n      <td>TESTcsv2021</td>\n      <td>HISTORY</td>\n      <td>FRA</td>\n      <td>CH4</td>\n      <td>Gg CH4 / yr</td>\n      <td>2</td>\n      <td>TOTAL</td>\n      <td>fugitive</td>\n      <td>7.000</td>\n      <td>8.000</td>\n      <td>9.000</td>\n    </tr>\n    <tr>\n      <th>3</th>\n      <td>TESTcsv2021</td>\n      <td>HISTORY</td>\n      <td>FRA</td>\n      <td>CO2</td>\n      <td>Mt CO2 / yr</td>\n      <td>2</td>\n      <td>TOTAL</td>\n      <td>fugitive</td>\n      <td>0.012</td>\n      <td>0.013</td>\n      <td>0.014</td>\n    </tr>\n    <tr>\n      <th>4</th>\n      <td>TESTcsv2021</td>\n      <td>HISTORY</td>\n      <td>FRA</td>\n      <td>KYOTOGHG (SARGWP100)</td>\n      <td>Mt CO2 / yr</td>\n      <td>0</td>\n      <td>TOTAL</td>\n      <td>fugitive</td>\n      <td>0.030</td>\n      <td>0.020</td>\n      <td>0.040</td>\n    </tr>\n  </tbody>\n</table>\n</div>"
     },
     "execution_count": 5,
     "metadata": {},
     "output_type": "execute_result"
    }
   ],
   "source": [
    "data_if_read = pm2.pm2io.read_interchange_format(file_if)\n",
    "data_if_read.head()"
   ],
   "metadata": {
    "collapsed": false,
    "pycharm": {
     "name": "#%%\n"
    }
   }
  },
  {
   "cell_type": "markdown",
   "source": [
    "### Further examples\n",
    "After finalization of the functionality an example for conversion from the xarray format\n",
    "to the interchange format will be added."
   ],
   "metadata": {
    "collapsed": false,
    "pycharm": {
     "name": "#%% md\n"
    }
   }
  }
 ],
 "metadata": {
  "kernelspec": {
   "display_name": "Python 3",
   "language": "python",
   "name": "python3"
  },
  "language_info": {
   "codemirror_mode": {
    "name": "ipython",
    "version": 3
   },
   "file_extension": ".py",
   "mimetype": "text/x-python",
   "name": "python",
   "nbconvert_exporter": "python",
   "pygments_lexer": "ipython3",
   "version": "3.8.6"
  }
 },
 "nbformat": 4,
 "nbformat_minor": 4
}
